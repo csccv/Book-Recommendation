{
 "cells": [
  {
   "cell_type": "code",
   "execution_count": 3,
   "id": "initial_id",
   "metadata": {
    "collapsed": true,
    "ExecuteTime": {
     "end_time": "2024-05-04T01:10:54.160780Z",
     "start_time": "2024-05-04T01:10:53.325786Z"
    }
   },
   "outputs": [],
   "source": [
    "import pandas as pd\n",
    "import numpy as np"
   ]
  },
  {
   "cell_type": "code",
   "outputs": [
    {
     "data": {
      "text/plain": "         ISBN                                         Book-Title  \\\n0  0195153448                                Classical Mythology   \n1  0002005018                                       Clara Callan   \n2  0060973129                               Decision in Normandy   \n3  0374157065  Flu: The Story of the Great Influenza Pandemic...   \n4  0393045218                             The Mummies of Urumchi   \n\n            Book-Author Year-Of-Publication                   Publisher  \\\n0    Mark P. O. Morford                2002     Oxford University Press   \n1  Richard Bruce Wright                2001       HarperFlamingo Canada   \n2          Carlo D'Este                1991             HarperPerennial   \n3      Gina Bari Kolata                1999        Farrar Straus Giroux   \n4       E. J. W. Barber                1999  W. W. Norton &amp; Company   \n\n                                         Image-URL-S  \\\n0  http://images.amazon.com/images/P/0195153448.0...   \n1  http://images.amazon.com/images/P/0002005018.0...   \n2  http://images.amazon.com/images/P/0060973129.0...   \n3  http://images.amazon.com/images/P/0374157065.0...   \n4  http://images.amazon.com/images/P/0393045218.0...   \n\n                                         Image-URL-M  \\\n0  http://images.amazon.com/images/P/0195153448.0...   \n1  http://images.amazon.com/images/P/0002005018.0...   \n2  http://images.amazon.com/images/P/0060973129.0...   \n3  http://images.amazon.com/images/P/0374157065.0...   \n4  http://images.amazon.com/images/P/0393045218.0...   \n\n                                         Image-URL-L  \n0  http://images.amazon.com/images/P/0195153448.0...  \n1  http://images.amazon.com/images/P/0002005018.0...  \n2  http://images.amazon.com/images/P/0060973129.0...  \n3  http://images.amazon.com/images/P/0374157065.0...  \n4  http://images.amazon.com/images/P/0393045218.0...  ",
      "text/html": "<div>\n<style scoped>\n    .dataframe tbody tr th:only-of-type {\n        vertical-align: middle;\n    }\n\n    .dataframe tbody tr th {\n        vertical-align: top;\n    }\n\n    .dataframe thead th {\n        text-align: right;\n    }\n</style>\n<table border=\"1\" class=\"dataframe\">\n  <thead>\n    <tr style=\"text-align: right;\">\n      <th></th>\n      <th>ISBN</th>\n      <th>Book-Title</th>\n      <th>Book-Author</th>\n      <th>Year-Of-Publication</th>\n      <th>Publisher</th>\n      <th>Image-URL-S</th>\n      <th>Image-URL-M</th>\n      <th>Image-URL-L</th>\n    </tr>\n  </thead>\n  <tbody>\n    <tr>\n      <th>0</th>\n      <td>0195153448</td>\n      <td>Classical Mythology</td>\n      <td>Mark P. O. Morford</td>\n      <td>2002</td>\n      <td>Oxford University Press</td>\n      <td>http://images.amazon.com/images/P/0195153448.0...</td>\n      <td>http://images.amazon.com/images/P/0195153448.0...</td>\n      <td>http://images.amazon.com/images/P/0195153448.0...</td>\n    </tr>\n    <tr>\n      <th>1</th>\n      <td>0002005018</td>\n      <td>Clara Callan</td>\n      <td>Richard Bruce Wright</td>\n      <td>2001</td>\n      <td>HarperFlamingo Canada</td>\n      <td>http://images.amazon.com/images/P/0002005018.0...</td>\n      <td>http://images.amazon.com/images/P/0002005018.0...</td>\n      <td>http://images.amazon.com/images/P/0002005018.0...</td>\n    </tr>\n    <tr>\n      <th>2</th>\n      <td>0060973129</td>\n      <td>Decision in Normandy</td>\n      <td>Carlo D'Este</td>\n      <td>1991</td>\n      <td>HarperPerennial</td>\n      <td>http://images.amazon.com/images/P/0060973129.0...</td>\n      <td>http://images.amazon.com/images/P/0060973129.0...</td>\n      <td>http://images.amazon.com/images/P/0060973129.0...</td>\n    </tr>\n    <tr>\n      <th>3</th>\n      <td>0374157065</td>\n      <td>Flu: The Story of the Great Influenza Pandemic...</td>\n      <td>Gina Bari Kolata</td>\n      <td>1999</td>\n      <td>Farrar Straus Giroux</td>\n      <td>http://images.amazon.com/images/P/0374157065.0...</td>\n      <td>http://images.amazon.com/images/P/0374157065.0...</td>\n      <td>http://images.amazon.com/images/P/0374157065.0...</td>\n    </tr>\n    <tr>\n      <th>4</th>\n      <td>0393045218</td>\n      <td>The Mummies of Urumchi</td>\n      <td>E. J. W. Barber</td>\n      <td>1999</td>\n      <td>W. W. Norton &amp;amp; Company</td>\n      <td>http://images.amazon.com/images/P/0393045218.0...</td>\n      <td>http://images.amazon.com/images/P/0393045218.0...</td>\n      <td>http://images.amazon.com/images/P/0393045218.0...</td>\n    </tr>\n  </tbody>\n</table>\n</div>"
     },
     "execution_count": 4,
     "metadata": {},
     "output_type": "execute_result"
    }
   ],
   "source": [
    "books = pd.read_csv(r'E:\\PycharmProjects\\推荐系统算法\\book-rs-main\\data\\books.csv',on_bad_lines='skip')\n",
    "ratings = pd.read_csv(r'E:\\PycharmProjects\\推荐系统算法\\book-rs-main\\data\\Ratings.csv')\n",
    "books.rename(columns={'Image-URL-L;;;;;;': 'Image-URL-L'}, inplace=True)\n",
    "books.head()"
   ],
   "metadata": {
    "collapsed": false,
    "ExecuteTime": {
     "end_time": "2024-05-04T01:10:55.727913Z",
     "start_time": "2024-05-04T01:10:54.163953Z"
    }
   },
   "id": "f6b8d66da25af167",
   "execution_count": 4
  },
  {
   "cell_type": "code",
   "outputs": [
    {
     "data": {
      "text/plain": "              ISBN                                         Book-Title  \\\n0       0195153448                                Classical Mythology   \n1       0002005018                                       Clara Callan   \n2       0002005018                                       Clara Callan   \n3       0002005018                                       Clara Callan   \n4       0002005018                                       Clara Callan   \n...            ...                                                ...   \n819618  0691027641  Makers of Modern Strategy from Machiavelli to ...   \n819619  0137558104  Reading Diagnosis and Instruction: A C-A-L-M A...   \n819620  0399150684                                         Naked Prey   \n819621  0312180640                        Cheaters: And Other Stories   \n819622  8874960018           L'Occhio Nero Al Panda Gliel'ho Fatto IO   \n\n                 Book-Author Year-Of-Publication                   Publisher  \\\n0         Mark P. O. Morford                2002     Oxford University Press   \n1       Richard Bruce Wright                2001       HarperFlamingo Canada   \n2       Richard Bruce Wright                2001       HarperFlamingo Canada   \n3       Richard Bruce Wright                2001       HarperFlamingo Canada   \n4       Richard Bruce Wright                2001       HarperFlamingo Canada   \n...                      ...                 ...                         ...   \n819618           Peter Paret                1986  Princeton University Press   \n819619   Susan Mandel Glazer                1988               Prentice Hall   \n819620         John Sandford                2003        Putnam Berkley Audio   \n819621        Dean Albarelli                1998          St. Martin's Press   \n819622          Paolo Migone                2003                    Kowalski   \n\n                                              Image-URL-S  \\\n0       http://images.amazon.com/images/P/0195153448.0...   \n1       http://images.amazon.com/images/P/0002005018.0...   \n2       http://images.amazon.com/images/P/0002005018.0...   \n3       http://images.amazon.com/images/P/0002005018.0...   \n4       http://images.amazon.com/images/P/0002005018.0...   \n...                                                   ...   \n819618  http://images.amazon.com/images/P/0691027641.0...   \n819619  http://images.amazon.com/images/P/0137558104.0...   \n819620  http://images.amazon.com/images/P/0399150684.0...   \n819621  http://images.amazon.com/images/P/0312180640.0...   \n819622  http://images.amazon.com/images/P/8874960018.0...   \n\n                                              Image-URL-M  \\\n0       http://images.amazon.com/images/P/0195153448.0...   \n1       http://images.amazon.com/images/P/0002005018.0...   \n2       http://images.amazon.com/images/P/0002005018.0...   \n3       http://images.amazon.com/images/P/0002005018.0...   \n4       http://images.amazon.com/images/P/0002005018.0...   \n...                                                   ...   \n819618  http://images.amazon.com/images/P/0691027641.0...   \n819619  http://images.amazon.com/images/P/0137558104.0...   \n819620  http://images.amazon.com/images/P/0399150684.0...   \n819621  http://images.amazon.com/images/P/0312180640.0...   \n819622  http://images.amazon.com/images/P/8874960018.0...   \n\n                                              Image-URL-L User-ID  Book-Rating  \n0       http://images.amazon.com/images/P/0195153448.0...       2          0.0  \n1       http://images.amazon.com/images/P/0002005018.0...       8          5.0  \n2       http://images.amazon.com/images/P/0002005018.0...   11400          0.0  \n3       http://images.amazon.com/images/P/0002005018.0...   11676          8.0  \n4       http://images.amazon.com/images/P/0002005018.0...   41385          0.0  \n...                                                   ...     ...          ...  \n819618  http://images.amazon.com/images/P/0691027641.0...  249791          0.0  \n819619  http://images.amazon.com/images/P/0137558104.0...  249862          0.0  \n819620  http://images.amazon.com/images/P/0399150684.0...  250405          0.0  \n819621  http://images.amazon.com/images/P/0312180640.0...  250702          0.0  \n819622  http://images.amazon.com/images/P/8874960018.0...  250739          0.0  \n\n[819623 rows x 10 columns]",
      "text/html": "<div>\n<style scoped>\n    .dataframe tbody tr th:only-of-type {\n        vertical-align: middle;\n    }\n\n    .dataframe tbody tr th {\n        vertical-align: top;\n    }\n\n    .dataframe thead th {\n        text-align: right;\n    }\n</style>\n<table border=\"1\" class=\"dataframe\">\n  <thead>\n    <tr style=\"text-align: right;\">\n      <th></th>\n      <th>ISBN</th>\n      <th>Book-Title</th>\n      <th>Book-Author</th>\n      <th>Year-Of-Publication</th>\n      <th>Publisher</th>\n      <th>Image-URL-S</th>\n      <th>Image-URL-M</th>\n      <th>Image-URL-L</th>\n      <th>User-ID</th>\n      <th>Book-Rating</th>\n    </tr>\n  </thead>\n  <tbody>\n    <tr>\n      <th>0</th>\n      <td>0195153448</td>\n      <td>Classical Mythology</td>\n      <td>Mark P. O. Morford</td>\n      <td>2002</td>\n      <td>Oxford University Press</td>\n      <td>http://images.amazon.com/images/P/0195153448.0...</td>\n      <td>http://images.amazon.com/images/P/0195153448.0...</td>\n      <td>http://images.amazon.com/images/P/0195153448.0...</td>\n      <td>2</td>\n      <td>0.0</td>\n    </tr>\n    <tr>\n      <th>1</th>\n      <td>0002005018</td>\n      <td>Clara Callan</td>\n      <td>Richard Bruce Wright</td>\n      <td>2001</td>\n      <td>HarperFlamingo Canada</td>\n      <td>http://images.amazon.com/images/P/0002005018.0...</td>\n      <td>http://images.amazon.com/images/P/0002005018.0...</td>\n      <td>http://images.amazon.com/images/P/0002005018.0...</td>\n      <td>8</td>\n      <td>5.0</td>\n    </tr>\n    <tr>\n      <th>2</th>\n      <td>0002005018</td>\n      <td>Clara Callan</td>\n      <td>Richard Bruce Wright</td>\n      <td>2001</td>\n      <td>HarperFlamingo Canada</td>\n      <td>http://images.amazon.com/images/P/0002005018.0...</td>\n      <td>http://images.amazon.com/images/P/0002005018.0...</td>\n      <td>http://images.amazon.com/images/P/0002005018.0...</td>\n      <td>11400</td>\n      <td>0.0</td>\n    </tr>\n    <tr>\n      <th>3</th>\n      <td>0002005018</td>\n      <td>Clara Callan</td>\n      <td>Richard Bruce Wright</td>\n      <td>2001</td>\n      <td>HarperFlamingo Canada</td>\n      <td>http://images.amazon.com/images/P/0002005018.0...</td>\n      <td>http://images.amazon.com/images/P/0002005018.0...</td>\n      <td>http://images.amazon.com/images/P/0002005018.0...</td>\n      <td>11676</td>\n      <td>8.0</td>\n    </tr>\n    <tr>\n      <th>4</th>\n      <td>0002005018</td>\n      <td>Clara Callan</td>\n      <td>Richard Bruce Wright</td>\n      <td>2001</td>\n      <td>HarperFlamingo Canada</td>\n      <td>http://images.amazon.com/images/P/0002005018.0...</td>\n      <td>http://images.amazon.com/images/P/0002005018.0...</td>\n      <td>http://images.amazon.com/images/P/0002005018.0...</td>\n      <td>41385</td>\n      <td>0.0</td>\n    </tr>\n    <tr>\n      <th>...</th>\n      <td>...</td>\n      <td>...</td>\n      <td>...</td>\n      <td>...</td>\n      <td>...</td>\n      <td>...</td>\n      <td>...</td>\n      <td>...</td>\n      <td>...</td>\n      <td>...</td>\n    </tr>\n    <tr>\n      <th>819618</th>\n      <td>0691027641</td>\n      <td>Makers of Modern Strategy from Machiavelli to ...</td>\n      <td>Peter Paret</td>\n      <td>1986</td>\n      <td>Princeton University Press</td>\n      <td>http://images.amazon.com/images/P/0691027641.0...</td>\n      <td>http://images.amazon.com/images/P/0691027641.0...</td>\n      <td>http://images.amazon.com/images/P/0691027641.0...</td>\n      <td>249791</td>\n      <td>0.0</td>\n    </tr>\n    <tr>\n      <th>819619</th>\n      <td>0137558104</td>\n      <td>Reading Diagnosis and Instruction: A C-A-L-M A...</td>\n      <td>Susan Mandel Glazer</td>\n      <td>1988</td>\n      <td>Prentice Hall</td>\n      <td>http://images.amazon.com/images/P/0137558104.0...</td>\n      <td>http://images.amazon.com/images/P/0137558104.0...</td>\n      <td>http://images.amazon.com/images/P/0137558104.0...</td>\n      <td>249862</td>\n      <td>0.0</td>\n    </tr>\n    <tr>\n      <th>819620</th>\n      <td>0399150684</td>\n      <td>Naked Prey</td>\n      <td>John Sandford</td>\n      <td>2003</td>\n      <td>Putnam Berkley Audio</td>\n      <td>http://images.amazon.com/images/P/0399150684.0...</td>\n      <td>http://images.amazon.com/images/P/0399150684.0...</td>\n      <td>http://images.amazon.com/images/P/0399150684.0...</td>\n      <td>250405</td>\n      <td>0.0</td>\n    </tr>\n    <tr>\n      <th>819621</th>\n      <td>0312180640</td>\n      <td>Cheaters: And Other Stories</td>\n      <td>Dean Albarelli</td>\n      <td>1998</td>\n      <td>St. Martin's Press</td>\n      <td>http://images.amazon.com/images/P/0312180640.0...</td>\n      <td>http://images.amazon.com/images/P/0312180640.0...</td>\n      <td>http://images.amazon.com/images/P/0312180640.0...</td>\n      <td>250702</td>\n      <td>0.0</td>\n    </tr>\n    <tr>\n      <th>819622</th>\n      <td>8874960018</td>\n      <td>L'Occhio Nero Al Panda Gliel'ho Fatto IO</td>\n      <td>Paolo Migone</td>\n      <td>2003</td>\n      <td>Kowalski</td>\n      <td>http://images.amazon.com/images/P/8874960018.0...</td>\n      <td>http://images.amazon.com/images/P/8874960018.0...</td>\n      <td>http://images.amazon.com/images/P/8874960018.0...</td>\n      <td>250739</td>\n      <td>0.0</td>\n    </tr>\n  </tbody>\n</table>\n<p>819623 rows × 10 columns</p>\n</div>"
     },
     "execution_count": 5,
     "metadata": {},
     "output_type": "execute_result"
    }
   ],
   "source": [
    "# 合并两张表\n",
    "books_ratings = pd.merge(books,ratings,on='ISBN')\n",
    "books_ratings"
   ],
   "metadata": {
    "collapsed": false,
    "ExecuteTime": {
     "end_time": "2024-05-04T01:10:56.516791Z",
     "start_time": "2024-05-04T01:10:55.728945Z"
    }
   },
   "id": "2269988be892db34",
   "execution_count": 5
  },
  {
   "cell_type": "code",
   "outputs": [
    {
     "data": {
      "text/plain": "(819623, 10)"
     },
     "execution_count": 6,
     "metadata": {},
     "output_type": "execute_result"
    }
   ],
   "source": [
    "books_ratings.shape"
   ],
   "metadata": {
    "collapsed": false,
    "ExecuteTime": {
     "end_time": "2024-05-04T01:10:56.532419Z",
     "start_time": "2024-05-04T01:10:56.518828Z"
    }
   },
   "id": "516d14250813604d",
   "execution_count": 6
  },
  {
   "cell_type": "code",
   "outputs": [
    {
     "name": "stdout",
     "output_type": "stream",
     "text": [
      "<class 'pandas.core.frame.DataFrame'>\n",
      "Int64Index: 819623 entries, 0 to 819622\n",
      "Data columns (total 10 columns):\n",
      " #   Column               Non-Null Count   Dtype  \n",
      "---  ------               --------------   -----  \n",
      " 0   ISBN                 819623 non-null  object \n",
      " 1   Book-Title           819623 non-null  object \n",
      " 2   Book-Author          819622 non-null  object \n",
      " 3   Year-Of-Publication  819623 non-null  object \n",
      " 4   Publisher            819621 non-null  object \n",
      " 5   Image-URL-S          819623 non-null  object \n",
      " 6   Image-URL-M          819623 non-null  object \n",
      " 7   Image-URL-L          819623 non-null  object \n",
      " 8   User-ID              819623 non-null  object \n",
      " 9   Book-Rating          819623 non-null  float64\n",
      "dtypes: float64(1), object(9)\n",
      "memory usage: 68.8+ MB\n"
     ]
    }
   ],
   "source": [
    "books_ratings.info()"
   ],
   "metadata": {
    "collapsed": false,
    "ExecuteTime": {
     "end_time": "2024-05-04T01:10:57.301977Z",
     "start_time": "2024-05-04T01:10:56.534468Z"
    }
   },
   "id": "39864a7a9551ea30",
   "execution_count": 7
  },
  {
   "cell_type": "code",
   "outputs": [
    {
     "data": {
      "text/plain": "array(['The Testament', 'Beloved (Plume Contemporary Fiction)',\n       'Wild Animus', 'Airframe', 'Timeline', 'To Kill a Mockingbird',\n       'Seabiscuit: An American Legend', 'Pigs in Heaven',\n       'Pride and Prejudice', 'Icebound', \"I'll Be Seeing You\",\n       'From the Corner of His Eye', 'Isle of Dogs', 'The Street Lawyer',\n       'Breathing Lessons', 'The Joy Luck Club', 'The Tao of Pooh',\n       'Seabiscuit',\n       'Midnight in the Garden of Good and Evil: A Savannah Story',\n       \"Pretend You Don't See Her\", 'Fast Women',\n       'The Pillars of the Earth', 'The Five People You Meet in Heaven',\n       'The Beach House', 'Angels &amp; Demons',\n       'The Girl Who Loved Tom Gordon', 'The Sum of All Fears',\n       'Little Altars Everywhere: A Novel', 'Before I Say Good-Bye',\n       'Slow Waltz in Cedar Bend', 'Atonement : A Novel', 'Rebecca',\n       'Contact', 'Wish You Well', \"The Hitchhiker's Guide to the Galaxy\",\n       \"Bridget Jones's Diary\", 'Fahrenheit 451',\n       'The God of Small Things', 'Congo',\n       'Plainsong (Vintage Contemporaries)',\n       'All That Remains (Kay Scarpetta Mysteries (Paperback))',\n       'The Brethren', 'The King of Torts', 'Bleachers',\n       'Roses Are Red (Alex Cross Novels)', 'The Rescue', 'Pet Sematary',\n       'Girl with a Pearl Earring', 'Deception Point', 'Tis : A Memoir',\n       'Chicken Soup for the Soul (Chicken Soup for the Soul)',\n       'Wicked: The Life and Times of the Wicked Witch of the West',\n       'Life of Pi',\n       'Lies and the Lying Liars Who Tell Them: A Fair and Balanced Look at the Right',\n       'Secret History', 'Animal Farm', 'Catch 22', 'A Man in Full',\n       'A Painted House',\n       'The Perfect Storm : A True Story of Men Against the Sea',\n       \"Vinegar Hill (Oprah's Book Club (Paperback))\",\n       'The Hunt for Red October', 'The Secret Life of Bees',\n       'Digital Fortress : A Thriller', 'The Firm', 'The Client',\n       'Heart of the Sea (Irish Trilogy)', 'The Little Prince',\n       'Hannibal', 'The Robber Bride', 'A Widow for One Year',\n       'Empire Falls', 'Black and Blue',\n       \"She's Come Undone (Oprah's Book Club)\",\n       'Nickel and Dimed: On (Not) Getting By in America',\n       \"Left Behind: A Novel of the Earth's Last Days (Left Behind No. 1)\",\n       'The Diary of Ellen Rimbauer: My Life at Rose Red',\n       'The Bean Trees', 'The Red Tent (Bestselling Backlist)',\n       'The Nanny Diaries: A Novel', 'Postmortem', 'Three Junes',\n       'Back Roads', 'In Her Shoes : A Novel', 'The Kiss', 'Strangers',\n       \"A Thousand Acres (Ballantine Reader's Circle)\", 'Four Blondes',\n       \"River's End\", 'The Chamber', 'The Partner', 'Chosen Prey',\n       'Guilty as Sin', 'Night Sins', 'The Mummy or Ramses the Damned',\n       'Daisy Fay and the Miracle Man', \"Angela's Ashes: A Memoir\",\n       'The Next Accident',\n       'Fast Food Nation: The Dark Side of the All-American Meal',\n       'One for the Money (Stephanie Plum Novels (Paperback))',\n       'Along Came a Spider (Alex Cross Novels)',\n       'Who Moved My Cheese? An Amazing Way to Deal with Change in Your Work and in Your Life',\n       \"Where the Heart Is (Oprah's Book Club (Paperback))\",\n       \"The Girls' Guide to Hunting and Fishing\", 'Icy Sparks',\n       'The Da Vinci Code', 'A Map of the World', 'Big Trouble',\n       'Snow Falling on Cedars', 'Skipping Christmas', 'The Reader',\n       \"Daddy's Little Girl\", 'Message in a Bottle', 'The Guardian',\n       'Nights in Rodanthe', 'The Villa', 'Me Talk Pretty One Day',\n       'The Door to December', 'Dreamcatcher', \"Smilla's Sense of Snow\",\n       'The Giver (21st Century Reference)',\n       \"Ender's Game (Ender Wiggins Saga (Paperback))\", 'A Time to Kill',\n       'Wuthering Heights', 'Dark Paradise', 'The Rainmaker',\n       'The Amazing Adventures of Kavalier &amp; Clay',\n       \"The Princess Bride: S Morgenstern's Classic Tale of True Love and High Adventure\",\n       'SHIPPING NEWS', 'The Smoke Jumper',\n       'Anne of Green Gables (Anne of Green Gables Novels (Paperback))',\n       'Fall On Your Knees (Oprah #45)', 'While I Was Gone',\n       'The House of the Spirits',\n       'Divine Secrets of the Ya-Ya Sisterhood: A Novel',\n       \"She's Come Undone (Oprah's Book Club (Paperback))\",\n       'STONES FROM THE RIVER', 'Dragonfly in Amber', 'Naked',\n       'Kiss the Girls',\n       'The Witching Hour (Lives of the Mayfair Witches)',\n       'Jack &amp; Jill (Alex Cross Novels)', 'American Gods',\n       'Red Dragon', 'Jurassic Park', 'Neverwhere', 'The Thorn Birds',\n       'Memoirs of a Geisha Uk', 'Choke',\n       \"The Color of Water: A Black Man's Tribute to His White Mother\",\n       'Anne Frank: The Diary of a Young Girl',\n       'Shopaholic Takes Manhattan (Summer Display Opportunity)',\n       'Confessions of a Shopaholic (Summer Display Opportunity)',\n       'The Cider House Rules', 'Good Omens', 'Shock',\n       'The Poisonwood Bible: A Novel',\n       'A Lesson Before Dying (Vintage Contemporaries (Paperback))',\n       'Jewel', 'A Prayer for Owen Meany', 'Cold Sassy Tree',\n       'The Shipping News : A Novel',\n       \"The No. 1 Ladies' Detective Agency (Today Show Book Club #8)\",\n       'Shopgirl',\n       'A Walk in the Woods: Rediscovering America on the Appalachian Trail (Official Guides to the Appalachian Trail)',\n       \"Songs in Ordinary Time (Oprah's Book Club (Paperback))\",\n       'Summer Sisters', 'At Home in Mitford (The Mitford Years)',\n       'Bel Canto: A Novel', 'All Around the Town', 'A Civil Action',\n       'Faking It', 'The Loop', 'Good in Bed', \"We'll Meet Again\",\n       'How to Make an American Quilt', 'Ellen Foster',\n       'The Hours : A Novel', 'Cold Mountain : A Novel',\n       'Fried Green Tomatoes at the Whistle Stop Cafe',\n       'The Last Time They Met : A Novel', 'The Green Mile',\n       'A Heartbreaking Work of Staggering Genius', 'Watership Down',\n       'The Blue Nowhere : A Novel', 'A Year in Provence',\n       'When the Wind Blows', 'I Capture the Castle',\n       'The Alchemist: A Fable About Following Your Dream',\n       \"Big Stone Gap: A Novel (Ballantine Reader's Circle)\",\n       'Black Notice', 'Lord of the Flies', 'The Alienist',\n       'Into Thin Air : A Personal Account of the Mt. Everest Disaster',\n       'Into the Wild', 'Cause of Death', 'The Poisonwood Bible',\n       'Point of Origin', 'Rising Sun', 'Cradle and All',\n       '1st to Die: A Novel', 'Flesh and Blood',\n       \"Everything's Eventual : 14 Dark Tales\", 'Here on Earth',\n       'The Lost World', 'Absolute Power', \"The Handmaid's Tale\",\n       'The Murder Book', 'Body of Lies',\n       'Ishmael: An Adventure of the Mind and Spirit', 'Lightning',\n       'Hearts In Atlantis', 'Winter Moon', 'Mercy', 'The Simple Truth',\n       'Last Man Standing', '1984', 'The Mists of Avalon',\n       'Hot Six : A Stephanie Plum Novel (A Stephanie Plum Novel)',\n       'Jemima J: A Novel About Ugly Ducklings and Swans',\n       \"Harry Potter and the Sorcerer's Stone (Harry Potter (Paperback))\",\n       'Seven Habits Of Highly Effective People', 'The Andromeda Strain',\n       'Dolores Claiborne', 'Clear and Present Danger (Jack Ryan Novels)',\n       'Tell No One', 'The Sum of All Fears (Jack Ryan Novels)',\n       'Mystic River', 'Sick Puppy', 'Prey', 'Fear Nothing',\n       'J Is for Judgment',\n       'A Is for Alibi (Kinsey Millhone Mysteries (Paperback))', 'Sphere',\n       'The Pelican Brief', 'Bridget Jones: The Edge of Reason',\n       \"Don't Stand Too Close to a Naked Man\",\n       'Interview with the Vampire',\n       'The Queen of the Damned (Vampire Chronicles (Paperback))',\n       \"The Book of Ruth (Oprah's Book Club (Paperback))\",\n       'How to Be Good', 'The Color Purple', 'Mirror Image',\n       'The Notebook', 'Peace Like a River', 'Carolina Moon',\n       'Three Fates', 'Pay It Forward', 'Bastard Out of Carolina',\n       'Face the Fire (Three Sisters Island Trilogy)',\n       'Stupid White Men ...and Other Sorry Excuses for the State of the Nation!',\n       \"Harry Potter and the Sorcerer's Stone (Book 1)\",\n       'Bee Season: A Novel', 'Phantoms', \"ANGELA'S ASHES\",\n       'Violets Are Blue',\n       'The Tale of the Body Thief (Vampire Chronicles (Paperback))',\n       'Cruel &amp; Unusual (Kay Scarpetta Mysteries (Paperback))',\n       'Misery', 'The Eyre Affair: A Novel', 'The Body Farm',\n       'By the Light of the Moon', 'Watchers', 'Intensity', 'Mr. Murder',\n       'The Hours: A Novel', 'Rainbow Six', \"The Bonesetter's Daughter\",\n       'The Hundred Secret Senses', 'Midwives: A Novel',\n       \"Song of Solomon (Oprah's Book Club (Paperback))\",\n       'I Know This Much Is True',\n       \"Don't Sweat the Small Stuff and It's All Small Stuff : Simple Ways to Keep the Little Things from Taking Over Your Life (Don't Sweat the Small Stuff Series)\",\n       'Call of the Wild', 'Whispers',\n       'Four To Score (A Stephanie Plum Novel)',\n       'High Five (A Stephanie Plum Novel)',\n       'Five Quarters of the Orange', 'Final Target', 'Siddhartha',\n       'Tribulation Force: The Continuing Drama of Those Left Behind (Left Behind No. 2)',\n       'The Runaway Jury', 'Without Remorse', 'The Woman Next Door',\n       'The Divine Secrets of the Ya-Ya Sisterhood: A Novel',\n       'The Hobbit : The Enchanting Prelude to The Lord of the Rings',\n       \"Hornet's Nest\",\n       'Harry Potter and the Chamber of Secrets (Book 2)',\n       'Love in the Time of Cholera (Penguin Great Books of the 20th Century)',\n       'It', 'Ashes to Ashes', 'Insomnia', 'Unnatural Exposure',\n       'The Surgeon', 'Presumed Innocent', '2nd Chance',\n       'It Was on Fire When I Lay Down on It',\n       'Politically Correct Bedtime Stories: Modern Tales for Our Life and Times',\n       '4 Blondes', 'Night', 'The Secret Garden', 'Black House',\n       'Falling Angels', 'Christine', 'Desperation',\n       'Harry Potter and the Prisoner of Azkaban (Book 3)',\n       'Primary Colors: A Novel of Politics', 'The Gift',\n       'A Bend in the Road', 'The Great Gatsby', 'Lucky : A Memoir',\n       'K Is for Killer (Kinsey Millhone Mysteries (Paperback))',\n       'Unspeakable',\n       'Catch Me If You Can: The True Story of a Real Fake',\n       'Circle of Friends', 'The Bourne Identity', 'Under the Tuscan Sun',\n       'Heartbreaker', 'The Cardinal of the Kremlin (Jack Ryan Novels)',\n       'Southern Cross', 'Bag of Bones', 'Brave New World',\n       'The Prince of Tides', 'The Honk and Holler Opening Soon',\n       'Shopaholic Ties the Knot', 'One Door Away from Heaven',\n       'The Bridges of Madison County', \"Suzanne's Diary for Nicholas\",\n       'Ladder of Years', 'High Fidelity', 'Mrs Dalloway',\n       'Prodigal Summer', \"White Oleander : A Novel (Oprah's Book Club)\",\n       'Confessions of an Ugly Stepsister : A Novel',\n       'Zen and the Art of Motorcycle Maintenance: An Inquiry into Values',\n       'The Accidental Tourist', 'The Reef', 'House of Sand and Fog',\n       'Saving Faith', 'The Mulberry Tree', 'White Teeth: A Novel',\n       \"Sophie's World: A Novel About the History of Philosophy\",\n       'Silence of the Lambs', 'The Hot Zone', 'The Rapture of Canaan',\n       'Heaven and Earth (Three Sisters Island Trilogy)',\n       'Dance upon the Air (Three Sisters Island Trilogy)',\n       'What Looks Like Crazy On An Ordinary Day',\n       \"Angela's Ashes (MMP) : A Memoir\", 'The Corrections: A Novel',\n       'Coraline', 'Disclosure', 'The Corrections',\n       'How Stella Got Her Groove Back', \"The Pilot's Wife : A Novel\",\n       'About a Boy', 'A Patchwork Planet', 'Outlander', 'Prey: A Novel',\n       'Blessings', 'A Case of Need', 'Death du Jour',\n       'Pop Goes the Weasel', 'Last Chance Saloon',\n       'The Devil Wears Prada : A Novel', 'On the Street Where You Live',\n       'Prodigal Summer: A Novel', 'Winter Solstice',\n       'We Were the Mulvaneys',\n       'Balzac and the Little Chinese Seamstress : A Novel',\n       'Year of Wonders', 'The Search', 'All I Really Need to Know',\n       'Running with Scissors: A Memoir', 'Tara Road', 'Chocolat',\n       'Harry Potter and the Goblet of Fire (Book 4)',\n       \"Slaughterhouse Five or the Children's Crusade: A Duty Dance With Death\",\n       'P Is for Peril', 'The Celestine Prophecy (Celestine Prophecy)',\n       'Harry Potter and the Order of the Phoenix (Book 5)', 'Hideaway',\n       'The Tommyknockers',\n       'Tears of the Giraffe (No.1 Ladies Detective Agency)',\n       'A Walk to Remember', 'Journey', 'Holes (Yearling Newbery)',\n       'The Summons', 'The Winner', 'The Virgin Suicides',\n       \"From Potter's Field\", 'The Summerhouse', 'Cold Mountain',\n       'Scarlet Feather', 'The Blind Assassin',\n       'D Is for Deadbeat (Kinsey Millhone Mysteries (Paperback))',\n       'Midnight in the Garden of Good and Evil',\n       'Three To Get Deadly : A Stephanie Plum Novel (A Stephanie Plum Novel)',\n       'Two for the Dough', 'Turtle Moon', 'The Little Friend',\n       'Saint Maybe', 'Envy', 'The Dark Half',\n       \"Full House (Janet Evanovich's Full Series)\",\n       'F Is for Fugitive (Kinsey Millhone Mysteries (Paperback))',\n       'E Is for Evidence: A Kinsey Millhone Mystery (Kinsey Millhone Mysteries (Paperback))',\n       'The Regulators', 'Plum Island', 'Beloved',\n       \"The Sweet Potato Queens' Book of Love\",\n       \"Drowning Ruth (Oprah's Book Club)\", 'The Last Precinct',\n       'Possession : A Romance', 'L Is for Lawless', 'Violin',\n       'Animal Dreams', 'The Angel of Darkness', 'Quentins',\n       'I Is for Innocent', 'Evening Class', 'N Is for Noose',\n       'A Wrinkle in Time', 'The English Patient', 'The Fourth Hand',\n       'Couplehood', 'I Know Why the Caged Bird Sings', 'Still Waters',\n       'Hard Eight : A Stephanie Plum Novel (A Stephanie Plum Novel)',\n       'Angels', 'Debt of Honor (Jack Ryan Novels)', 'One True Thing',\n       'Skeleton Crew', 'Seize the Night',\n       \"The Deep End of the Ocean (Oprah's Book Club (Hardcover))\",\n       'Q Is for Quarry', 'Girl in Hyacinth Blue',\n       \"Full Tilt (Janet Evanovich's Full Series)\", 'The Glass Lake',\n       'The Horse Whisperer', 'Seven Up (A Stephanie Plum Novel)',\n       'The Weight of Water : A Novel Tag: Author of Resistance and Strange Fits of Passion',\n       'Hearts in Atlantis', 'Dust to Dust', 'The Deep End of the Ocean',\n       'B Is for Burglar (Kinsey Millhone Mysteries (Paperback))',\n       'C Is for Corpse (Kinsey Millhone Mysteries (Paperback))',\n       \"Gerald's Game\", 'FORREST GUMP (Movie Tie in)', 'Rose Madder',\n       'Neuromancer (Remembering Tomorrow)', 'The Stone Diaries',\n       'G Is for Gumshoe (Kinsey Millhone Mysteries (Paperback))',\n       'The Other Boleyn Girl', 'The Bonfire of the Vanities',\n       'Needful Things', 'Four Past Midnight', 'Hemlock Bay',\n       'The Wedding', 'Red Storm Rising', 'Code to Zero',\n       \"The General's Daughter\", 'Drowning Ruth', 'Paradise',\n       \"A Virtuous Woman (Oprah's Book Club (Paperback))\",\n       'The Burden of Proof', 'False Memory', \"Foucault's Pendulum\",\n       'Thinner', 'The Talisman', 'A Fine Balance', 'Deja Dead',\n       \"I Know This Much Is True (Oprah's Book Club)\", 'Sole Survivor',\n       'Tears of the Moon (Irish Trilogy)', 'Beach Music',\n       'Practical Magic', 'Riptide',\n       \"The Lost Boy: A Foster Child's Search for the Love of a Family\",\n       'The Bluest Eye', 'Silent Witness', 'Midnight Bayou',\n       'Remember Me', 'The Saving Graces: A Novel', 'Moo',\n       'The Crimson Petal and the White', 'The Switch',\n       \"The Clan of the Cave Bear (Earth's Children (Paperback))\",\n       'The Copper Beech', 'A Wrinkle In Time', 'Sanctuary',\n       'Jewels of the Sun (Irish Trilogy)',\n       'H Is for Homicide (Kinsey Millhone Mysteries (Paperback))',\n       'Cat &amp; Mouse (Alex Cross Novels)', 'Easy Prey', 'Mortal Prey',\n       'Patriot Games (Jack Ryan Novels)', 'My Gal Sunday',\n       'M Is for Malice'], dtype=object)"
     },
     "execution_count": 8,
     "metadata": {},
     "output_type": "execute_result"
    }
   ],
   "source": [
    "# 合并后有81963条数据，取评分前500的书籍\n",
    "n = 500\n",
    "top_n = books_ratings[\"Book-Title\"].value_counts().index[:n]\n",
    "books_ratings_ = books_ratings[books_ratings['Book-Title'].isin(top_n)]\n",
    "books_titles = books_ratings_['Book-Title'].unique()[1:]\n",
    "books_titles"
   ],
   "metadata": {
    "collapsed": false,
    "ExecuteTime": {
     "end_time": "2024-05-04T01:10:57.675341Z",
     "start_time": "2024-05-04T01:10:57.303093Z"
    }
   },
   "id": "237ceb0d782910bb",
   "execution_count": 8
  },
  {
   "cell_type": "code",
   "outputs": [
    {
     "data": {
      "text/plain": "                    Book-Rating                                           \\\nUser-ID                  100004 100009 10001 100010 100025 100030 100035   \nBook-Title                                                                 \n1984                        0.0    0.0   0.0    0.0    0.0    0.0    0.0   \n1st to Die: A Novel         0.0    0.0   0.0    0.0    0.0    0.0    0.0   \n2nd Chance                  0.0    0.0   0.0    0.0    0.0    0.0    0.0   \n4 Blondes                   0.0    0.0   0.0    0.0    0.0    0.0    0.0   \nA Bend in the Road          0.0    0.0   0.0    0.0    0.0    0.0    0.0   \n\n                                         ...                               \\\nUser-ID             100038 100043 10005  ... 99919 9992 99946 99954 99955   \nBook-Title                               ...                                \n1984                   0.0    0.0   0.0  ...   0.0  0.0   0.0   0.0   0.0   \n1st to Die: A Novel    0.0    0.0   0.0  ...   0.0  0.0   0.0   0.0   0.0   \n2nd Chance             0.0    0.0   0.0  ...   0.0  0.0   0.0   0.0   0.0   \n4 Blondes              0.0    0.0   0.0  ...   0.0  0.0   0.0   0.0   0.0   \nA Bend in the Road     0.0    0.0   0.0  ...   0.0  0.0   0.0   0.0   0.0   \n\n                                                   \nUser-ID             99963 99980 99982 99996 99997  \nBook-Title                                         \n1984                  0.0   0.0   0.0   0.0   0.0  \n1st to Die: A Novel   0.0   0.0   0.0   0.0   0.0  \n2nd Chance            0.0   0.0   0.0   0.0   0.0  \n4 Blondes             0.0   0.0   0.0   0.0   0.0  \nA Bend in the Road    0.0   0.0   0.0   0.0   0.0  \n\n[5 rows x 28708 columns]",
      "text/html": "<div>\n<style scoped>\n    .dataframe tbody tr th:only-of-type {\n        vertical-align: middle;\n    }\n\n    .dataframe tbody tr th {\n        vertical-align: top;\n    }\n\n    .dataframe thead tr th {\n        text-align: left;\n    }\n\n    .dataframe thead tr:last-of-type th {\n        text-align: right;\n    }\n</style>\n<table border=\"1\" class=\"dataframe\">\n  <thead>\n    <tr>\n      <th></th>\n      <th colspan=\"21\" halign=\"left\">Book-Rating</th>\n    </tr>\n    <tr>\n      <th>User-ID</th>\n      <th>100004</th>\n      <th>100009</th>\n      <th>10001</th>\n      <th>100010</th>\n      <th>100025</th>\n      <th>100030</th>\n      <th>100035</th>\n      <th>100038</th>\n      <th>100043</th>\n      <th>10005</th>\n      <th>...</th>\n      <th>99919</th>\n      <th>9992</th>\n      <th>99946</th>\n      <th>99954</th>\n      <th>99955</th>\n      <th>99963</th>\n      <th>99980</th>\n      <th>99982</th>\n      <th>99996</th>\n      <th>99997</th>\n    </tr>\n    <tr>\n      <th>Book-Title</th>\n      <th></th>\n      <th></th>\n      <th></th>\n      <th></th>\n      <th></th>\n      <th></th>\n      <th></th>\n      <th></th>\n      <th></th>\n      <th></th>\n      <th></th>\n      <th></th>\n      <th></th>\n      <th></th>\n      <th></th>\n      <th></th>\n      <th></th>\n      <th></th>\n      <th></th>\n      <th></th>\n      <th></th>\n    </tr>\n  </thead>\n  <tbody>\n    <tr>\n      <th>1984</th>\n      <td>0.0</td>\n      <td>0.0</td>\n      <td>0.0</td>\n      <td>0.0</td>\n      <td>0.0</td>\n      <td>0.0</td>\n      <td>0.0</td>\n      <td>0.0</td>\n      <td>0.0</td>\n      <td>0.0</td>\n      <td>...</td>\n      <td>0.0</td>\n      <td>0.0</td>\n      <td>0.0</td>\n      <td>0.0</td>\n      <td>0.0</td>\n      <td>0.0</td>\n      <td>0.0</td>\n      <td>0.0</td>\n      <td>0.0</td>\n      <td>0.0</td>\n    </tr>\n    <tr>\n      <th>1st to Die: A Novel</th>\n      <td>0.0</td>\n      <td>0.0</td>\n      <td>0.0</td>\n      <td>0.0</td>\n      <td>0.0</td>\n      <td>0.0</td>\n      <td>0.0</td>\n      <td>0.0</td>\n      <td>0.0</td>\n      <td>0.0</td>\n      <td>...</td>\n      <td>0.0</td>\n      <td>0.0</td>\n      <td>0.0</td>\n      <td>0.0</td>\n      <td>0.0</td>\n      <td>0.0</td>\n      <td>0.0</td>\n      <td>0.0</td>\n      <td>0.0</td>\n      <td>0.0</td>\n    </tr>\n    <tr>\n      <th>2nd Chance</th>\n      <td>0.0</td>\n      <td>0.0</td>\n      <td>0.0</td>\n      <td>0.0</td>\n      <td>0.0</td>\n      <td>0.0</td>\n      <td>0.0</td>\n      <td>0.0</td>\n      <td>0.0</td>\n      <td>0.0</td>\n      <td>...</td>\n      <td>0.0</td>\n      <td>0.0</td>\n      <td>0.0</td>\n      <td>0.0</td>\n      <td>0.0</td>\n      <td>0.0</td>\n      <td>0.0</td>\n      <td>0.0</td>\n      <td>0.0</td>\n      <td>0.0</td>\n    </tr>\n    <tr>\n      <th>4 Blondes</th>\n      <td>0.0</td>\n      <td>0.0</td>\n      <td>0.0</td>\n      <td>0.0</td>\n      <td>0.0</td>\n      <td>0.0</td>\n      <td>0.0</td>\n      <td>0.0</td>\n      <td>0.0</td>\n      <td>0.0</td>\n      <td>...</td>\n      <td>0.0</td>\n      <td>0.0</td>\n      <td>0.0</td>\n      <td>0.0</td>\n      <td>0.0</td>\n      <td>0.0</td>\n      <td>0.0</td>\n      <td>0.0</td>\n      <td>0.0</td>\n      <td>0.0</td>\n    </tr>\n    <tr>\n      <th>A Bend in the Road</th>\n      <td>0.0</td>\n      <td>0.0</td>\n      <td>0.0</td>\n      <td>0.0</td>\n      <td>0.0</td>\n      <td>0.0</td>\n      <td>0.0</td>\n      <td>0.0</td>\n      <td>0.0</td>\n      <td>0.0</td>\n      <td>...</td>\n      <td>0.0</td>\n      <td>0.0</td>\n      <td>0.0</td>\n      <td>0.0</td>\n      <td>0.0</td>\n      <td>0.0</td>\n      <td>0.0</td>\n      <td>0.0</td>\n      <td>0.0</td>\n      <td>0.0</td>\n    </tr>\n  </tbody>\n</table>\n<p>5 rows × 28708 columns</p>\n</div>"
     },
     "execution_count": 9,
     "metadata": {},
     "output_type": "execute_result"
    }
   ],
   "source": [
    "df_books_ = pd.pivot_table(books_ratings_, values=['Book-Rating'],\n",
    "                           index=['Book-Title', 'User-ID'],\n",
    "                           aggfunc=np.mean).unstack()\n",
    "df_books_ = df_books_.fillna(0)\n",
    "df_books_.head()"
   ],
   "metadata": {
    "collapsed": false,
    "ExecuteTime": {
     "end_time": "2024-05-04T01:10:57.922570Z",
     "start_time": "2024-05-04T01:10:57.676385Z"
    }
   },
   "id": "905243558fa23e24",
   "execution_count": 9
  },
  {
   "cell_type": "code",
   "outputs": [
    {
     "data": {
      "text/plain": "Book-Title               1984  1st to Die: A Novel  2nd Chance  4 Blondes  \\\nBook-Title                                                                  \n1984                 1.000000             0.020849    0.003837        0.0   \n1st to Die: A Novel  0.020849             1.000000    0.118923        0.0   \n2nd Chance           0.003837             0.118923    1.000000        0.0   \n4 Blondes            0.000000             0.000000    0.000000        1.0   \nA Bend in the Road   0.009923             0.035696    0.019181        0.0   \n\nBook-Title           A Bend in the Road  A Case of Need  A Civil Action  \\\nBook-Title                                                                \n1984                           0.009923        0.037404        0.018619   \n1st to Die: A Novel            0.035696        0.030558        0.021956   \n2nd Chance                     0.019181        0.058383        0.007719   \n4 Blondes                      0.000000        0.042591        0.000000   \nA Bend in the Road             1.000000        0.025175        0.022806   \n\nBook-Title           A Fine Balance  \\\nBook-Title                            \n1984                       0.007325   \n1st to Die: A Novel        0.018493   \n2nd Chance                 0.000000   \n4 Blondes                  0.000000   \nA Bend in the Road         0.014943   \n\nBook-Title           A Heartbreaking Work of Staggering Genius  \\\nBook-Title                                                       \n1984                                                  0.019204   \n1st to Die: A Novel                                   0.023607   \n2nd Chance                                            0.000000   \n4 Blondes                                             0.008673   \nA Bend in the Road                                    0.000918   \n\nBook-Title           A Is for Alibi (Kinsey Millhone Mysteries (Paperback))  \\\nBook-Title                                                                    \n1984                                                          0.005461        \n1st to Die: A Novel                                           0.093645        \n2nd Chance                                                    0.009081        \n4 Blondes                                                     0.016115        \nA Bend in the Road                                            0.008355        \n\nBook-Title           ...  \\\nBook-Title           ...   \n1984                 ...   \n1st to Die: A Novel  ...   \n2nd Chance           ...   \n4 Blondes            ...   \nA Bend in the Road   ...   \n\nBook-Title           Who Moved My Cheese? An Amazing Way to Deal with Change in Your Work and in Your Life  \\\nBook-Title                                                                                                   \n1984                                                          0.046769                                       \n1st to Die: A Novel                                           0.034699                                       \n2nd Chance                                                    0.008200                                       \n4 Blondes                                                     0.000000                                       \nA Bend in the Road                                            0.014606                                       \n\nBook-Title           Wicked: The Life and Times of the Wicked Witch of the West  \\\nBook-Title                                                                        \n1984                                                          0.016448            \n1st to Die: A Novel                                           0.025363            \n2nd Chance                                                    0.020228            \n4 Blondes                                                     0.018348            \nA Bend in the Road                                            0.015743            \n\nBook-Title           Wild Animus  Winter Moon  Winter Solstice  Wish You Well  \\\nBook-Title                                                                      \n1984                    0.016988     0.008116         0.010683       0.012165   \n1st to Die: A Novel     0.009803     0.028486         0.039074       0.056427   \n2nd Chance              0.035130     0.026438         0.008969       0.042132   \n4 Blondes               0.000000     0.000000         0.000000       0.000000   \nA Bend in the Road      0.018078     0.017295         0.030237       0.040377   \n\nBook-Title           Without Remorse  Wuthering Heights  Year of Wonders  \\\nBook-Title                                                                 \n1984                        0.002065           0.018784         0.026052   \n1st to Die: A Novel         0.033351           0.020397         0.017204   \n2nd Chance                  0.006727           0.005805         0.013400   \n4 Blondes                   0.000000           0.027044         0.028404   \nA Bend in the Road          0.004400           0.004674         0.000000   \n\nBook-Title           Zen and the Art of Motorcycle Maintenance: An Inquiry into Values  \nBook-Title                                                                              \n1984                                                          0.036903                  \n1st to Die: A Novel                                           0.014878                  \n2nd Chance                                                    0.013895                  \n4 Blondes                                                     0.000000                  \nA Bend in the Road                                            0.007272                  \n\n[5 rows x 500 columns]",
      "text/html": "<div>\n<style scoped>\n    .dataframe tbody tr th:only-of-type {\n        vertical-align: middle;\n    }\n\n    .dataframe tbody tr th {\n        vertical-align: top;\n    }\n\n    .dataframe thead th {\n        text-align: right;\n    }\n</style>\n<table border=\"1\" class=\"dataframe\">\n  <thead>\n    <tr style=\"text-align: right;\">\n      <th>Book-Title</th>\n      <th>1984</th>\n      <th>1st to Die: A Novel</th>\n      <th>2nd Chance</th>\n      <th>4 Blondes</th>\n      <th>A Bend in the Road</th>\n      <th>A Case of Need</th>\n      <th>A Civil Action</th>\n      <th>A Fine Balance</th>\n      <th>A Heartbreaking Work of Staggering Genius</th>\n      <th>A Is for Alibi (Kinsey Millhone Mysteries (Paperback))</th>\n      <th>...</th>\n      <th>Who Moved My Cheese? An Amazing Way to Deal with Change in Your Work and in Your Life</th>\n      <th>Wicked: The Life and Times of the Wicked Witch of the West</th>\n      <th>Wild Animus</th>\n      <th>Winter Moon</th>\n      <th>Winter Solstice</th>\n      <th>Wish You Well</th>\n      <th>Without Remorse</th>\n      <th>Wuthering Heights</th>\n      <th>Year of Wonders</th>\n      <th>Zen and the Art of Motorcycle Maintenance: An Inquiry into Values</th>\n    </tr>\n    <tr>\n      <th>Book-Title</th>\n      <th></th>\n      <th></th>\n      <th></th>\n      <th></th>\n      <th></th>\n      <th></th>\n      <th></th>\n      <th></th>\n      <th></th>\n      <th></th>\n      <th></th>\n      <th></th>\n      <th></th>\n      <th></th>\n      <th></th>\n      <th></th>\n      <th></th>\n      <th></th>\n      <th></th>\n      <th></th>\n      <th></th>\n    </tr>\n  </thead>\n  <tbody>\n    <tr>\n      <th>1984</th>\n      <td>1.000000</td>\n      <td>0.020849</td>\n      <td>0.003837</td>\n      <td>0.0</td>\n      <td>0.009923</td>\n      <td>0.037404</td>\n      <td>0.018619</td>\n      <td>0.007325</td>\n      <td>0.019204</td>\n      <td>0.005461</td>\n      <td>...</td>\n      <td>0.046769</td>\n      <td>0.016448</td>\n      <td>0.016988</td>\n      <td>0.008116</td>\n      <td>0.010683</td>\n      <td>0.012165</td>\n      <td>0.002065</td>\n      <td>0.018784</td>\n      <td>0.026052</td>\n      <td>0.036903</td>\n    </tr>\n    <tr>\n      <th>1st to Die: A Novel</th>\n      <td>0.020849</td>\n      <td>1.000000</td>\n      <td>0.118923</td>\n      <td>0.0</td>\n      <td>0.035696</td>\n      <td>0.030558</td>\n      <td>0.021956</td>\n      <td>0.018493</td>\n      <td>0.023607</td>\n      <td>0.093645</td>\n      <td>...</td>\n      <td>0.034699</td>\n      <td>0.025363</td>\n      <td>0.009803</td>\n      <td>0.028486</td>\n      <td>0.039074</td>\n      <td>0.056427</td>\n      <td>0.033351</td>\n      <td>0.020397</td>\n      <td>0.017204</td>\n      <td>0.014878</td>\n    </tr>\n    <tr>\n      <th>2nd Chance</th>\n      <td>0.003837</td>\n      <td>0.118923</td>\n      <td>1.000000</td>\n      <td>0.0</td>\n      <td>0.019181</td>\n      <td>0.058383</td>\n      <td>0.007719</td>\n      <td>0.000000</td>\n      <td>0.000000</td>\n      <td>0.009081</td>\n      <td>...</td>\n      <td>0.008200</td>\n      <td>0.020228</td>\n      <td>0.035130</td>\n      <td>0.026438</td>\n      <td>0.008969</td>\n      <td>0.042132</td>\n      <td>0.006727</td>\n      <td>0.005805</td>\n      <td>0.013400</td>\n      <td>0.013895</td>\n    </tr>\n    <tr>\n      <th>4 Blondes</th>\n      <td>0.000000</td>\n      <td>0.000000</td>\n      <td>0.000000</td>\n      <td>1.0</td>\n      <td>0.000000</td>\n      <td>0.042591</td>\n      <td>0.000000</td>\n      <td>0.000000</td>\n      <td>0.008673</td>\n      <td>0.016115</td>\n      <td>...</td>\n      <td>0.000000</td>\n      <td>0.018348</td>\n      <td>0.000000</td>\n      <td>0.000000</td>\n      <td>0.000000</td>\n      <td>0.000000</td>\n      <td>0.000000</td>\n      <td>0.027044</td>\n      <td>0.028404</td>\n      <td>0.000000</td>\n    </tr>\n    <tr>\n      <th>A Bend in the Road</th>\n      <td>0.009923</td>\n      <td>0.035696</td>\n      <td>0.019181</td>\n      <td>0.0</td>\n      <td>1.000000</td>\n      <td>0.025175</td>\n      <td>0.022806</td>\n      <td>0.014943</td>\n      <td>0.000918</td>\n      <td>0.008355</td>\n      <td>...</td>\n      <td>0.014606</td>\n      <td>0.015743</td>\n      <td>0.018078</td>\n      <td>0.017295</td>\n      <td>0.030237</td>\n      <td>0.040377</td>\n      <td>0.004400</td>\n      <td>0.004674</td>\n      <td>0.000000</td>\n      <td>0.007272</td>\n    </tr>\n  </tbody>\n</table>\n<p>5 rows × 500 columns</p>\n</div>"
     },
     "execution_count": 10,
     "metadata": {},
     "output_type": "execute_result"
    }
   ],
   "source": [
    "# 余弦相似度\n",
    "from sklearn.metrics.pairwise import cosine_similarity\n",
    "cosine_sim = cosine_similarity(df_books_)\n",
    "cosine_sim_df = pd.DataFrame(cosine_sim, index=df_books_.index, columns=df_books_.index)\n",
    "cosine_sim_df.head()"
   ],
   "metadata": {
    "collapsed": false,
    "ExecuteTime": {
     "end_time": "2024-05-04T01:11:01.719992Z",
     "start_time": "2024-05-04T01:10:57.923603Z"
    }
   },
   "id": "64b3b0ef0979ba3a",
   "execution_count": 10
  },
  {
   "cell_type": "code",
   "outputs": [],
   "source": [
    "def find_similar_books(x):\n",
    "    selected_book = [x]\n",
    "    books_summed = np.sum(cosine_sim_df[selected_book], axis=1)\n",
    "    books_summed = books_summed.sort_values(ascending=False)\n",
    "    ranked_books = books_summed.index\n",
    "    ranked_books = ranked_books.tolist()\n",
    "    ranked_books_5 = [ranked_books[1], ranked_books[2], ranked_books[3], ranked_books[4], ranked_books[5]]\n",
    "    return ranked_books_5\n"
   ],
   "metadata": {
    "collapsed": false,
    "ExecuteTime": {
     "end_time": "2024-05-04T01:11:01.735409Z",
     "start_time": "2024-05-04T01:11:01.721045Z"
    }
   },
   "id": "be121de4c8801a0",
   "execution_count": 11
  },
  {
   "cell_type": "code",
   "outputs": [
    {
     "data": {
      "text/plain": "['Angels &amp; Demons',\n 'Digital Fortress : A Thriller',\n 'The Secret Life of Bees',\n 'Nights in Rodanthe',\n 'The Five People You Meet in Heaven']"
     },
     "execution_count": 12,
     "metadata": {},
     "output_type": "execute_result"
    }
   ],
   "source": [
    "find_similar_books('The Da Vinci Code')"
   ],
   "metadata": {
    "collapsed": false,
    "ExecuteTime": {
     "end_time": "2024-05-04T01:11:01.754667Z",
     "start_time": "2024-05-04T01:11:01.736454Z"
    }
   },
   "id": "514feaa1c6460961",
   "execution_count": 12
  },
  {
   "cell_type": "code",
   "outputs": [],
   "source": [
    "def find_nonsimilar_books(x):\n",
    "    selected_book = [x]\n",
    "    books_summed = np.sum(cosine_sim_df[selected_book], axis=1)\n",
    "    books_summed = books_summed.sort_values(ascending=True)\n",
    "    ranked_books = books_summed.index\n",
    "    ranked_books = ranked_books.tolist()\n",
    "    ranked_books_5 = [ranked_books[0], ranked_books[1], ranked_books[2], ranked_books[3], ranked_books[4]]\n",
    "    return ranked_books_5"
   ],
   "metadata": {
    "collapsed": false,
    "ExecuteTime": {
     "end_time": "2024-05-04T01:13:39.647748Z",
     "start_time": "2024-05-04T01:13:39.628996Z"
    }
   },
   "id": "c929b39d6b121f46",
   "execution_count": 25
  },
  {
   "cell_type": "code",
   "outputs": [
    {
     "data": {
      "text/plain": "['Guilty as Sin',\n 'The Sum of All Fears',\n 'Primary Colors: A Novel of Politics',\n 'Jewel',\n 'The Body Farm']"
     },
     "execution_count": 26,
     "metadata": {},
     "output_type": "execute_result"
    }
   ],
   "source": [
    "find_nonsimilar_books('The Da Vinci Code')"
   ],
   "metadata": {
    "collapsed": false,
    "ExecuteTime": {
     "end_time": "2024-05-04T01:13:40.264585Z",
     "start_time": "2024-05-04T01:13:40.247907Z"
    }
   },
   "id": "c5b3dfd49192637d",
   "execution_count": 26
  },
  {
   "cell_type": "code",
   "outputs": [
    {
     "data": {
      "text/plain": "         ISBN           Book-Title           Book-Author Year-Of-Publication  \\\n0  0195153448  Classical Mythology    Mark P. O. Morford                2002   \n1  0002005018         Clara Callan  Richard Bruce Wright                2001   \n2  0002005018         Clara Callan  Richard Bruce Wright                2001   \n3  0002005018         Clara Callan  Richard Bruce Wright                2001   \n4  0002005018         Clara Callan  Richard Bruce Wright                2001   \n\n                 Publisher                                        Image-URL-S  \\\n0  Oxford University Press  http://images.amazon.com/images/P/0195153448.0...   \n1    HarperFlamingo Canada  http://images.amazon.com/images/P/0002005018.0...   \n2    HarperFlamingo Canada  http://images.amazon.com/images/P/0002005018.0...   \n3    HarperFlamingo Canada  http://images.amazon.com/images/P/0002005018.0...   \n4    HarperFlamingo Canada  http://images.amazon.com/images/P/0002005018.0...   \n\n                                         Image-URL-M  \\\n0  http://images.amazon.com/images/P/0195153448.0...   \n1  http://images.amazon.com/images/P/0002005018.0...   \n2  http://images.amazon.com/images/P/0002005018.0...   \n3  http://images.amazon.com/images/P/0002005018.0...   \n4  http://images.amazon.com/images/P/0002005018.0...   \n\n                                         Image-URL-L User-ID  Book-Rating  \\\n0  http://images.amazon.com/images/P/0195153448.0...       2          0.0   \n1  http://images.amazon.com/images/P/0002005018.0...       8          5.0   \n2  http://images.amazon.com/images/P/0002005018.0...   11400          0.0   \n3  http://images.amazon.com/images/P/0002005018.0...   11676          8.0   \n4  http://images.amazon.com/images/P/0002005018.0...   41385          0.0   \n\n                                   Attributes  \n0  Mark P. O. Morford Oxford University Press  \n1  Richard Bruce Wright HarperFlamingo Canada  \n2  Richard Bruce Wright HarperFlamingo Canada  \n3  Richard Bruce Wright HarperFlamingo Canada  \n4  Richard Bruce Wright HarperFlamingo Canada  ",
      "text/html": "<div>\n<style scoped>\n    .dataframe tbody tr th:only-of-type {\n        vertical-align: middle;\n    }\n\n    .dataframe tbody tr th {\n        vertical-align: top;\n    }\n\n    .dataframe thead th {\n        text-align: right;\n    }\n</style>\n<table border=\"1\" class=\"dataframe\">\n  <thead>\n    <tr style=\"text-align: right;\">\n      <th></th>\n      <th>ISBN</th>\n      <th>Book-Title</th>\n      <th>Book-Author</th>\n      <th>Year-Of-Publication</th>\n      <th>Publisher</th>\n      <th>Image-URL-S</th>\n      <th>Image-URL-M</th>\n      <th>Image-URL-L</th>\n      <th>User-ID</th>\n      <th>Book-Rating</th>\n      <th>Attributes</th>\n    </tr>\n  </thead>\n  <tbody>\n    <tr>\n      <th>0</th>\n      <td>0195153448</td>\n      <td>Classical Mythology</td>\n      <td>Mark P. O. Morford</td>\n      <td>2002</td>\n      <td>Oxford University Press</td>\n      <td>http://images.amazon.com/images/P/0195153448.0...</td>\n      <td>http://images.amazon.com/images/P/0195153448.0...</td>\n      <td>http://images.amazon.com/images/P/0195153448.0...</td>\n      <td>2</td>\n      <td>0.0</td>\n      <td>Mark P. O. Morford Oxford University Press</td>\n    </tr>\n    <tr>\n      <th>1</th>\n      <td>0002005018</td>\n      <td>Clara Callan</td>\n      <td>Richard Bruce Wright</td>\n      <td>2001</td>\n      <td>HarperFlamingo Canada</td>\n      <td>http://images.amazon.com/images/P/0002005018.0...</td>\n      <td>http://images.amazon.com/images/P/0002005018.0...</td>\n      <td>http://images.amazon.com/images/P/0002005018.0...</td>\n      <td>8</td>\n      <td>5.0</td>\n      <td>Richard Bruce Wright HarperFlamingo Canada</td>\n    </tr>\n    <tr>\n      <th>2</th>\n      <td>0002005018</td>\n      <td>Clara Callan</td>\n      <td>Richard Bruce Wright</td>\n      <td>2001</td>\n      <td>HarperFlamingo Canada</td>\n      <td>http://images.amazon.com/images/P/0002005018.0...</td>\n      <td>http://images.amazon.com/images/P/0002005018.0...</td>\n      <td>http://images.amazon.com/images/P/0002005018.0...</td>\n      <td>11400</td>\n      <td>0.0</td>\n      <td>Richard Bruce Wright HarperFlamingo Canada</td>\n    </tr>\n    <tr>\n      <th>3</th>\n      <td>0002005018</td>\n      <td>Clara Callan</td>\n      <td>Richard Bruce Wright</td>\n      <td>2001</td>\n      <td>HarperFlamingo Canada</td>\n      <td>http://images.amazon.com/images/P/0002005018.0...</td>\n      <td>http://images.amazon.com/images/P/0002005018.0...</td>\n      <td>http://images.amazon.com/images/P/0002005018.0...</td>\n      <td>11676</td>\n      <td>8.0</td>\n      <td>Richard Bruce Wright HarperFlamingo Canada</td>\n    </tr>\n    <tr>\n      <th>4</th>\n      <td>0002005018</td>\n      <td>Clara Callan</td>\n      <td>Richard Bruce Wright</td>\n      <td>2001</td>\n      <td>HarperFlamingo Canada</td>\n      <td>http://images.amazon.com/images/P/0002005018.0...</td>\n      <td>http://images.amazon.com/images/P/0002005018.0...</td>\n      <td>http://images.amazon.com/images/P/0002005018.0...</td>\n      <td>41385</td>\n      <td>0.0</td>\n      <td>Richard Bruce Wright HarperFlamingo Canada</td>\n    </tr>\n  </tbody>\n</table>\n</div>"
     },
     "execution_count": 13,
     "metadata": {},
     "output_type": "execute_result"
    }
   ],
   "source": [
    "# 将“Book-Author”和“Publisher”两列合并，以便与“Book-Title”列进行基于语言的相似性匹配。\n",
    "books_ratings_new = books_ratings.copy()\n",
    "books_ratings_new['Attributes'] = books_ratings_new['Book-Author'] + ' ' + books_ratings_new['Publisher']\n",
    "\n",
    "books_ratings_new.dropna(subset='Book-Author', inplace=True)\n",
    "books_ratings_new.dropna(subset='Publisher', inplace=True)\n",
    "books_ratings_new.reset_index(drop=True, inplace=True)\n",
    "\n",
    "books_ratings_new.head()"
   ],
   "metadata": {
    "collapsed": false,
    "ExecuteTime": {
     "end_time": "2024-05-04T01:11:02.885841Z",
     "start_time": "2024-05-04T01:11:01.756772Z"
    }
   },
   "id": "2828150be6b7ee19",
   "execution_count": 13
  },
  {
   "cell_type": "code",
   "outputs": [
    {
     "data": {
      "text/plain": "(819620, 11)"
     },
     "execution_count": 14,
     "metadata": {},
     "output_type": "execute_result"
    }
   ],
   "source": [
    "books_ratings_new.shape"
   ],
   "metadata": {
    "collapsed": false,
    "ExecuteTime": {
     "end_time": "2024-05-04T01:11:02.901711Z",
     "start_time": "2024-05-04T01:11:02.886875Z"
    }
   },
   "id": "17c421c78678b542",
   "execution_count": 14
  },
  {
   "cell_type": "code",
   "outputs": [
    {
     "data": {
      "text/plain": "              ISBN                            Book-Title         Book-Author  \\\n29      0399135782                The Kitchen God's Wife             Amy Tan   \n91      0440234743                         The Testament        John Grisham   \n473     0452264464  Beloved (Plume Contemporary Fiction)       Toni Morrison   \n698     0971880107                           Wild Animus        Rich Shapero   \n2960    0345402871                              Airframe    Michael Crichton   \n...            ...                                   ...                 ...   \n337104  039914613X                             Easy Prey       John Sandford   \n337351  0425189864                           Mortal Prey       John Sandford   \n338356  0425109720      Patriot Games (Jack Ryan Novels)          Tom Clancy   \n341977  0684832291                         My Gal Sunday  Mary Higgins Clark   \n384473  0449223604                       M Is for Malice         Sue Grafton   \n\n       Year-Of-Publication                 Publisher  \\\n29                    1991          Putnam Pub Group   \n91                    1999                      Dell   \n473                   1994                     Plume   \n698                   2004                   Too Far   \n2960                  1997          Ballantine Books   \n...                    ...                       ...   \n337104                2000   Putnam Publishing Group   \n337351                2003  Berkley Publishing Group   \n338356                1992  Berkley Publishing Group   \n341977                1996      Simon &amp; Schuster   \n384473                1998             Fawcett Books   \n\n                                              Image-URL-S  \\\n29      http://images.amazon.com/images/P/0399135782.0...   \n91      http://images.amazon.com/images/P/0440234743.0...   \n473     http://images.amazon.com/images/P/0452264464.0...   \n698     http://images.amazon.com/images/P/0971880107.0...   \n2960    http://images.amazon.com/images/P/0345402871.0...   \n...                                                   ...   \n337104  http://images.amazon.com/images/P/039914613X.0...   \n337351  http://images.amazon.com/images/P/0425189864.0...   \n338356  http://images.amazon.com/images/P/0425109720.0...   \n341977  http://images.amazon.com/images/P/0684832291.0...   \n384473  http://images.amazon.com/images/P/0449223604.0...   \n\n                                              Image-URL-M  \\\n29      http://images.amazon.com/images/P/0399135782.0...   \n91      http://images.amazon.com/images/P/0440234743.0...   \n473     http://images.amazon.com/images/P/0452264464.0...   \n698     http://images.amazon.com/images/P/0971880107.0...   \n2960    http://images.amazon.com/images/P/0345402871.0...   \n...                                                   ...   \n337104  http://images.amazon.com/images/P/039914613X.0...   \n337351  http://images.amazon.com/images/P/0425189864.0...   \n338356  http://images.amazon.com/images/P/0425109720.0...   \n341977  http://images.amazon.com/images/P/0684832291.0...   \n384473  http://images.amazon.com/images/P/0449223604.0...   \n\n                                              Image-URL-L User-ID  \\\n29      http://images.amazon.com/images/P/0399135782.0...       8   \n91      http://images.amazon.com/images/P/0440234743.0...  277478   \n473     http://images.amazon.com/images/P/0452264464.0...  277711   \n698     http://images.amazon.com/images/P/0971880107.0...  276925   \n2960    http://images.amazon.com/images/P/0345402871.0...  277965   \n...                                                   ...     ...   \n337104  http://images.amazon.com/images/P/039914613X.0...    3373   \n337351  http://images.amazon.com/images/P/0425189864.0...  277124   \n338356  http://images.amazon.com/images/P/0425109720.0...    9417   \n341977  http://images.amazon.com/images/P/0684832291.0...   10030   \n384473  http://images.amazon.com/images/P/0449223604.0...  278843   \n\n        Book-Rating                               Attributes  \n29              0.0                 Amy Tan Putnam Pub Group  \n91              0.0                        John Grisham Dell  \n473             0.0                      Toni Morrison Plume  \n698             0.0                     Rich Shapero Too Far  \n2960            0.0        Michael Crichton Ballantine Books  \n...             ...                                      ...  \n337104          7.0    John Sandford Putnam Publishing Group  \n337351          9.0   John Sandford Berkley Publishing Group  \n338356          0.0      Tom Clancy Berkley Publishing Group  \n341977          9.0  Mary Higgins Clark Simon &amp; Schuster  \n384473          0.0                Sue Grafton Fawcett Books  \n\n[500 rows x 11 columns]",
      "text/html": "<div>\n<style scoped>\n    .dataframe tbody tr th:only-of-type {\n        vertical-align: middle;\n    }\n\n    .dataframe tbody tr th {\n        vertical-align: top;\n    }\n\n    .dataframe thead th {\n        text-align: right;\n    }\n</style>\n<table border=\"1\" class=\"dataframe\">\n  <thead>\n    <tr style=\"text-align: right;\">\n      <th></th>\n      <th>ISBN</th>\n      <th>Book-Title</th>\n      <th>Book-Author</th>\n      <th>Year-Of-Publication</th>\n      <th>Publisher</th>\n      <th>Image-URL-S</th>\n      <th>Image-URL-M</th>\n      <th>Image-URL-L</th>\n      <th>User-ID</th>\n      <th>Book-Rating</th>\n      <th>Attributes</th>\n    </tr>\n  </thead>\n  <tbody>\n    <tr>\n      <th>29</th>\n      <td>0399135782</td>\n      <td>The Kitchen God's Wife</td>\n      <td>Amy Tan</td>\n      <td>1991</td>\n      <td>Putnam Pub Group</td>\n      <td>http://images.amazon.com/images/P/0399135782.0...</td>\n      <td>http://images.amazon.com/images/P/0399135782.0...</td>\n      <td>http://images.amazon.com/images/P/0399135782.0...</td>\n      <td>8</td>\n      <td>0.0</td>\n      <td>Amy Tan Putnam Pub Group</td>\n    </tr>\n    <tr>\n      <th>91</th>\n      <td>0440234743</td>\n      <td>The Testament</td>\n      <td>John Grisham</td>\n      <td>1999</td>\n      <td>Dell</td>\n      <td>http://images.amazon.com/images/P/0440234743.0...</td>\n      <td>http://images.amazon.com/images/P/0440234743.0...</td>\n      <td>http://images.amazon.com/images/P/0440234743.0...</td>\n      <td>277478</td>\n      <td>0.0</td>\n      <td>John Grisham Dell</td>\n    </tr>\n    <tr>\n      <th>473</th>\n      <td>0452264464</td>\n      <td>Beloved (Plume Contemporary Fiction)</td>\n      <td>Toni Morrison</td>\n      <td>1994</td>\n      <td>Plume</td>\n      <td>http://images.amazon.com/images/P/0452264464.0...</td>\n      <td>http://images.amazon.com/images/P/0452264464.0...</td>\n      <td>http://images.amazon.com/images/P/0452264464.0...</td>\n      <td>277711</td>\n      <td>0.0</td>\n      <td>Toni Morrison Plume</td>\n    </tr>\n    <tr>\n      <th>698</th>\n      <td>0971880107</td>\n      <td>Wild Animus</td>\n      <td>Rich Shapero</td>\n      <td>2004</td>\n      <td>Too Far</td>\n      <td>http://images.amazon.com/images/P/0971880107.0...</td>\n      <td>http://images.amazon.com/images/P/0971880107.0...</td>\n      <td>http://images.amazon.com/images/P/0971880107.0...</td>\n      <td>276925</td>\n      <td>0.0</td>\n      <td>Rich Shapero Too Far</td>\n    </tr>\n    <tr>\n      <th>2960</th>\n      <td>0345402871</td>\n      <td>Airframe</td>\n      <td>Michael Crichton</td>\n      <td>1997</td>\n      <td>Ballantine Books</td>\n      <td>http://images.amazon.com/images/P/0345402871.0...</td>\n      <td>http://images.amazon.com/images/P/0345402871.0...</td>\n      <td>http://images.amazon.com/images/P/0345402871.0...</td>\n      <td>277965</td>\n      <td>0.0</td>\n      <td>Michael Crichton Ballantine Books</td>\n    </tr>\n    <tr>\n      <th>...</th>\n      <td>...</td>\n      <td>...</td>\n      <td>...</td>\n      <td>...</td>\n      <td>...</td>\n      <td>...</td>\n      <td>...</td>\n      <td>...</td>\n      <td>...</td>\n      <td>...</td>\n      <td>...</td>\n    </tr>\n    <tr>\n      <th>337104</th>\n      <td>039914613X</td>\n      <td>Easy Prey</td>\n      <td>John Sandford</td>\n      <td>2000</td>\n      <td>Putnam Publishing Group</td>\n      <td>http://images.amazon.com/images/P/039914613X.0...</td>\n      <td>http://images.amazon.com/images/P/039914613X.0...</td>\n      <td>http://images.amazon.com/images/P/039914613X.0...</td>\n      <td>3373</td>\n      <td>7.0</td>\n      <td>John Sandford Putnam Publishing Group</td>\n    </tr>\n    <tr>\n      <th>337351</th>\n      <td>0425189864</td>\n      <td>Mortal Prey</td>\n      <td>John Sandford</td>\n      <td>2003</td>\n      <td>Berkley Publishing Group</td>\n      <td>http://images.amazon.com/images/P/0425189864.0...</td>\n      <td>http://images.amazon.com/images/P/0425189864.0...</td>\n      <td>http://images.amazon.com/images/P/0425189864.0...</td>\n      <td>277124</td>\n      <td>9.0</td>\n      <td>John Sandford Berkley Publishing Group</td>\n    </tr>\n    <tr>\n      <th>338356</th>\n      <td>0425109720</td>\n      <td>Patriot Games (Jack Ryan Novels)</td>\n      <td>Tom Clancy</td>\n      <td>1992</td>\n      <td>Berkley Publishing Group</td>\n      <td>http://images.amazon.com/images/P/0425109720.0...</td>\n      <td>http://images.amazon.com/images/P/0425109720.0...</td>\n      <td>http://images.amazon.com/images/P/0425109720.0...</td>\n      <td>9417</td>\n      <td>0.0</td>\n      <td>Tom Clancy Berkley Publishing Group</td>\n    </tr>\n    <tr>\n      <th>341977</th>\n      <td>0684832291</td>\n      <td>My Gal Sunday</td>\n      <td>Mary Higgins Clark</td>\n      <td>1996</td>\n      <td>Simon &amp;amp; Schuster</td>\n      <td>http://images.amazon.com/images/P/0684832291.0...</td>\n      <td>http://images.amazon.com/images/P/0684832291.0...</td>\n      <td>http://images.amazon.com/images/P/0684832291.0...</td>\n      <td>10030</td>\n      <td>9.0</td>\n      <td>Mary Higgins Clark Simon &amp;amp; Schuster</td>\n    </tr>\n    <tr>\n      <th>384473</th>\n      <td>0449223604</td>\n      <td>M Is for Malice</td>\n      <td>Sue Grafton</td>\n      <td>1998</td>\n      <td>Fawcett Books</td>\n      <td>http://images.amazon.com/images/P/0449223604.0...</td>\n      <td>http://images.amazon.com/images/P/0449223604.0...</td>\n      <td>http://images.amazon.com/images/P/0449223604.0...</td>\n      <td>278843</td>\n      <td>0.0</td>\n      <td>Sue Grafton Fawcett Books</td>\n    </tr>\n  </tbody>\n</table>\n<p>500 rows × 11 columns</p>\n</div>"
     },
     "execution_count": 15,
     "metadata": {},
     "output_type": "execute_result"
    }
   ],
   "source": [
    "# 同样取前500,并去除重复\n",
    "n = 500\n",
    "top_n = books_ratings_new[\"Book-Title\"].value_counts().index[:n]\n",
    "books_ratings_new_ = books_ratings_new[books_ratings_new['Book-Title'].isin(top_n)]\n",
    "\n",
    "_books_ratings_ = books_ratings_new_.drop_duplicates(subset='Book-Title', keep=\"first\")\n",
    "_books_ratings_ "
   ],
   "metadata": {
    "collapsed": false,
    "ExecuteTime": {
     "end_time": "2024-05-04T01:11:03.103497Z",
     "start_time": "2024-05-04T01:11:02.902767Z"
    }
   },
   "id": "b0c5624d38bd726e",
   "execution_count": 15
  },
  {
   "cell_type": "code",
   "outputs": [
    {
     "data": {
      "text/plain": "(500, 11)"
     },
     "execution_count": 16,
     "metadata": {},
     "output_type": "execute_result"
    }
   ],
   "source": [
    "_books_ratings_.shape"
   ],
   "metadata": {
    "collapsed": false,
    "ExecuteTime": {
     "end_time": "2024-05-04T01:11:03.119083Z",
     "start_time": "2024-05-04T01:11:03.106647Z"
    }
   },
   "id": "1276adf096209f17",
   "execution_count": 16
  },
  {
   "cell_type": "code",
   "outputs": [
    {
     "data": {
      "text/plain": "array([[1.        , 0.        , 0.        , ..., 0.11453137, 0.        ,\n        0.        ],\n       [0.        , 1.        , 0.        , ..., 0.        , 0.        ,\n        0.        ],\n       [0.        , 0.        , 1.        , ..., 0.        , 0.        ,\n        0.        ],\n       ...,\n       [0.11453137, 0.        , 0.        , ..., 1.        , 0.        ,\n        0.        ],\n       [0.        , 0.        , 0.        , ..., 0.        , 1.        ,\n        0.        ],\n       [0.        , 0.        , 0.        , ..., 0.        , 0.        ,\n        1.        ]])"
     },
     "execution_count": 17,
     "metadata": {},
     "output_type": "execute_result"
    }
   ],
   "source": [
    "# 构造TF-IDF矩阵\n",
    "from sklearn.feature_extraction.text import TfidfVectorizer\n",
    "\n",
    "tfidf = TfidfVectorizer(stop_words='english')\n",
    "tfidf_matrix = tfidf.fit_transform(_books_ratings_['Attributes'])\n",
    "\n",
    "# 余弦相似度\n",
    "cosine_simm = cosine_similarity(tfidf_matrix)\n",
    "\n",
    "cosine_simm"
   ],
   "metadata": {
    "collapsed": false,
    "ExecuteTime": {
     "end_time": "2024-05-04T01:11:03.150589Z",
     "start_time": "2024-05-04T01:11:03.121137Z"
    }
   },
   "id": "2e83b3db93b06da8",
   "execution_count": 17
  },
  {
   "cell_type": "code",
   "outputs": [
    {
     "data": {
      "text/plain": "Book-Title\nThe Kitchen God's Wife                    0\nThe Testament                             1\nBeloved (Plume Contemporary Fiction)      2\nWild Animus                               3\nAirframe                                  4\n                                       ... \nEasy Prey                               495\nMortal Prey                             496\nPatriot Games (Jack Ryan Novels)        497\nMy Gal Sunday                           498\nM Is for Malice                         499\nLength: 500, dtype: int64"
     },
     "execution_count": 18,
     "metadata": {},
     "output_type": "execute_result"
    }
   ],
   "source": [
    "_books_ratings_.reset_index(drop=True, inplace=True)\n",
    "indices = pd.Series(_books_ratings_.index, index=_books_ratings_['Book-Title'])\n",
    "indices"
   ],
   "metadata": {
    "collapsed": false,
    "ExecuteTime": {
     "end_time": "2024-05-04T01:11:03.166449Z",
     "start_time": "2024-05-04T01:11:03.151699Z"
    }
   },
   "id": "b0e04c1121b6c20e",
   "execution_count": 18
  },
  {
   "cell_type": "code",
   "outputs": [],
   "source": [
    "def get_recommendations(_book, cosine_simm=cosine_simm):\n",
    "    idx = indices[_book]\n",
    "    sim_scores = list(enumerate(cosine_simm[idx]))\n",
    "    sim_scores = sorted(sim_scores, key=lambda x: x[1], reverse=True)\n",
    "    sim_scores = sim_scores[1:6]\n",
    "    book_indices = [i[0] for i in sim_scores]\n",
    "\n",
    "    return (_books_ratings_['Book-Title'].iloc[book_indices]).tolist()\n"
   ],
   "metadata": {
    "collapsed": false,
    "ExecuteTime": {
     "end_time": "2024-05-04T01:11:03.182248Z",
     "start_time": "2024-05-04T01:11:03.167448Z"
    }
   },
   "id": "37e8909b0da06d4b",
   "execution_count": 19
  },
  {
   "cell_type": "code",
   "outputs": [
    {
     "data": {
      "text/plain": "['Deception Point',\n 'Angels &amp; Demons',\n 'Digital Fortress : A Thriller',\n 'The Brethren',\n 'Bleachers']"
     },
     "execution_count": 20,
     "metadata": {},
     "output_type": "execute_result"
    }
   ],
   "source": [
    "get_recommendations('The Da Vinci Code')"
   ],
   "metadata": {
    "collapsed": false,
    "ExecuteTime": {
     "end_time": "2024-05-04T01:11:03.197816Z",
     "start_time": "2024-05-04T01:11:03.183295Z"
    }
   },
   "id": "7ea50a9905a0aad",
   "execution_count": 20
  },
  {
   "cell_type": "code",
   "outputs": [],
   "source": [
    "import pickle"
   ],
   "metadata": {
    "collapsed": false,
    "ExecuteTime": {
     "end_time": "2024-05-04T01:11:03.213535Z",
     "start_time": "2024-05-04T01:11:03.199911Z"
    }
   },
   "id": "fb3bedb02bbe529e",
   "execution_count": 21
  },
  {
   "cell_type": "code",
   "outputs": [],
   "source": [
    "pickle.dump(cosine_sim_df,open('sim.pkl','wb'))\n",
    "pickle.dump(cosine_simm,open('simm.pkl','wb'))"
   ],
   "metadata": {
    "collapsed": false,
    "ExecuteTime": {
     "end_time": "2024-05-04T01:11:03.229224Z",
     "start_time": "2024-05-04T01:11:03.214574Z"
    }
   },
   "id": "cd0f259623bf010f",
   "execution_count": 22
  },
  {
   "cell_type": "code",
   "outputs": [],
   "source": [
    "pickle.dump(books_ratings_,open('books_ratings_.pkl','wb'))\n",
    "pickle.dump(_books_ratings_,open('_books_ratings_.pkl','wb'))"
   ],
   "metadata": {
    "collapsed": false,
    "ExecuteTime": {
     "end_time": "2024-05-04T01:11:03.292113Z",
     "start_time": "2024-05-04T01:11:03.231402Z"
    }
   },
   "id": "f458704b7b908c1d",
   "execution_count": 23
  },
  {
   "cell_type": "code",
   "outputs": [],
   "source": [],
   "metadata": {
    "collapsed": false,
    "ExecuteTime": {
     "end_time": "2024-05-04T01:11:03.307645Z",
     "start_time": "2024-05-04T01:11:03.293158Z"
    }
   },
   "id": "8583d688c2472993",
   "execution_count": 23
  }
 ],
 "metadata": {
  "kernelspec": {
   "display_name": "Python 3",
   "language": "python",
   "name": "python3"
  },
  "language_info": {
   "codemirror_mode": {
    "name": "ipython",
    "version": 2
   },
   "file_extension": ".py",
   "mimetype": "text/x-python",
   "name": "python",
   "nbconvert_exporter": "python",
   "pygments_lexer": "ipython2",
   "version": "2.7.6"
  }
 },
 "nbformat": 4,
 "nbformat_minor": 5
}
